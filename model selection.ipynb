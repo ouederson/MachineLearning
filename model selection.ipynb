{
 "cells": [
  {
   "cell_type": "code",
   "execution_count": 2,
   "metadata": {},
   "outputs": [],
   "source": [
    "import numpy as np\n",
    "import pandas as pd\n",
    "import matplotlib.pyplot as plt\n",
    "from sklearn.datasets import load_iris\n",
    "import seaborn as sns"
   ]
  },
  {
   "cell_type": "code",
   "execution_count": 3,
   "metadata": {},
   "outputs": [],
   "source": [
    "iris = load_iris()\n",
    "x= iris.data\n",
    "y = iris.target"
   ]
  },
  {
   "cell_type": "code",
   "execution_count": 4,
   "metadata": {},
   "outputs": [
    {
     "data": {
      "text/plain": [
       "(150, 4)"
      ]
     },
     "execution_count": 4,
     "metadata": {},
     "output_type": "execute_result"
    }
   ],
   "source": [
    "x.shape"
   ]
  },
  {
   "cell_type": "code",
   "execution_count": 5,
   "metadata": {},
   "outputs": [
    {
     "data": {
      "text/plain": [
       "(150,)"
      ]
     },
     "execution_count": 5,
     "metadata": {},
     "output_type": "execute_result"
    }
   ],
   "source": [
    "y.shape"
   ]
  },
  {
   "cell_type": "code",
   "execution_count": 6,
   "metadata": {},
   "outputs": [
    {
     "data": {
      "text/plain": [
       "array([3.5, 3. , 3.2, 3.1, 3.6, 3.9, 3.4, 3.4, 2.9, 3.1, 3.7, 3.4, 3. ,\n",
       "       3. , 4. , 4.4, 3.9, 3.5, 3.8, 3.8, 3.4, 3.7, 3.6, 3.3, 3.4, 3. ,\n",
       "       3.4, 3.5, 3.4, 3.2, 3.1, 3.4, 4.1, 4.2, 3.1, 3.2, 3.5, 3.6, 3. ,\n",
       "       3.4, 3.5, 2.3, 3.2, 3.5, 3.8, 3. , 3.8, 3.2, 3.7, 3.3, 3.2, 3.2,\n",
       "       3.1, 2.3, 2.8, 2.8, 3.3, 2.4, 2.9, 2.7, 2. , 3. , 2.2, 2.9, 2.9,\n",
       "       3.1, 3. , 2.7, 2.2, 2.5, 3.2, 2.8, 2.5, 2.8, 2.9, 3. , 2.8, 3. ,\n",
       "       2.9, 2.6, 2.4, 2.4, 2.7, 2.7, 3. , 3.4, 3.1, 2.3, 3. , 2.5, 2.6,\n",
       "       3. , 2.6, 2.3, 2.7, 3. , 2.9, 2.9, 2.5, 2.8, 3.3, 2.7, 3. , 2.9,\n",
       "       3. , 3. , 2.5, 2.9, 2.5, 3.6, 3.2, 2.7, 3. , 2.5, 2.8, 3.2, 3. ,\n",
       "       3.8, 2.6, 2.2, 3.2, 2.8, 2.8, 2.7, 3.3, 3.2, 2.8, 3. , 2.8, 3. ,\n",
       "       2.8, 3.8, 2.8, 2.8, 2.6, 3. , 3.4, 3.1, 3. , 3.1, 3.1, 3.1, 2.7,\n",
       "       3.2, 3.3, 3. , 2.5, 3. , 3.4, 3. ])"
      ]
     },
     "execution_count": 6,
     "metadata": {},
     "output_type": "execute_result"
    }
   ],
   "source": [
    "x[:,1]"
   ]
  },
  {
   "cell_type": "code",
   "execution_count": 7,
   "metadata": {},
   "outputs": [],
   "source": [
    "from sklearn.model_selection import train_test_split"
   ]
  },
  {
   "cell_type": "code",
   "execution_count": 8,
   "metadata": {},
   "outputs": [],
   "source": [
    "x_train,x_test,y_train,y_test = train_test_split(x , y , test_size=0.2)"
   ]
  },
  {
   "cell_type": "code",
   "execution_count": 9,
   "metadata": {},
   "outputs": [
    {
     "name": "stdout",
     "output_type": "stream",
     "text": [
      "(120, 4)\n",
      "(30, 4)\n"
     ]
    }
   ],
   "source": [
    "print(x_train.shape)\n",
    "print(x_test.shape)"
   ]
  },
  {
   "cell_type": "code",
   "execution_count": 10,
   "metadata": {},
   "outputs": [],
   "source": [
    "from sklearn.neighbors import KNeighborsClassifier"
   ]
  },
  {
   "cell_type": "code",
   "execution_count": 11,
   "metadata": {},
   "outputs": [],
   "source": [
    "model = KNeighborsClassifier(n_neighbors=6)"
   ]
  },
  {
   "cell_type": "code",
   "execution_count": 12,
   "metadata": {},
   "outputs": [
    {
     "data": {
      "text/plain": [
       "KNeighborsClassifier(n_neighbors=6)"
      ]
     },
     "execution_count": 12,
     "metadata": {},
     "output_type": "execute_result"
    }
   ],
   "source": [
    "model.fit(x_train, y_train)"
   ]
  },
  {
   "cell_type": "code",
   "execution_count": 13,
   "metadata": {},
   "outputs": [
    {
     "data": {
      "text/plain": [
       "0.9666666666666667"
      ]
     },
     "execution_count": 13,
     "metadata": {},
     "output_type": "execute_result"
    }
   ],
   "source": [
    "model.score(x_train, y_train)"
   ]
  },
  {
   "cell_type": "code",
   "execution_count": 14,
   "metadata": {},
   "outputs": [
    {
     "data": {
      "text/plain": [
       "array([1, 1, 1, 1, 2, 1, 2, 1, 1, 0, 2, 1, 1, 1, 0, 2, 1, 2, 0, 0, 0, 1,\n",
       "       2, 0, 1, 0, 2, 0, 2, 2])"
      ]
     },
     "execution_count": 14,
     "metadata": {},
     "output_type": "execute_result"
    }
   ],
   "source": [
    "#Prediction du model\n",
    "model.predict(x_test)"
   ]
  },
  {
   "cell_type": "code",
   "execution_count": 15,
   "metadata": {},
   "outputs": [
    {
     "data": {
      "text/plain": [
       "0.9666666666666667"
      ]
     },
     "execution_count": 15,
     "metadata": {},
     "output_type": "execute_result"
    }
   ],
   "source": [
    "model.score(x_test,y_test)"
   ]
  },
  {
   "cell_type": "code",
   "execution_count": 16,
   "metadata": {},
   "outputs": [],
   "source": [
    "#Importation du module de cross validation\n",
    "from sklearn.model_selection import cross_val_score"
   ]
  },
  {
   "cell_type": "code",
   "execution_count": 17,
   "metadata": {},
   "outputs": [
    {
     "data": {
      "text/plain": [
       "array([0.91666667, 0.95833333, 0.95833333, 0.95833333, 0.95833333])"
      ]
     },
     "execution_count": 17,
     "metadata": {},
     "output_type": "execute_result"
    }
   ],
   "source": [
    "cross_val_score(KNeighborsClassifier(9),x_train, y_train, cv=5, scoring='accuracy')"
   ]
  },
  {
   "cell_type": "code",
   "execution_count": 18,
   "metadata": {},
   "outputs": [
    {
     "data": {
      "image/png": "[encoded data removed]",
      "text/plain": [
       "<Figure size 432x288 with 1 Axes>"
      ]
     },
     "metadata": {
      "needs_background": "light"
     },
     "output_type": "display_data"
    }
   ],
   "source": [
    "#Nous allons tester notre cross validation sur plusieurs neighbors pour avoir le meilleur k\n",
    "val_score=[]\n",
    "for k in range(1,51):\n",
    "    score=cross_val_score(KNeighborsClassifier(k),x_train, y_train, cv=5, scoring='accuracy').mean()\n",
    "    val_score.append(score)\n",
    "_=plt.plot(val_score)\n",
    "    "
   ]
  },
  {
   "cell_type": "raw",
   "metadata": {},
   "source": [
    "#On remarque aisement que notre modele est performant pour k autour de 10"
   ]
  },
  {
   "cell_type": "markdown",
   "metadata": {},
   "source": [
    "# La courbe de validation : VALIDATION CURVE"
   ]
  },
  {
   "cell_type": "code",
   "execution_count": 19,
   "metadata": {},
   "outputs": [],
   "source": [
    "from sklearn.model_selection import validation_curve"
   ]
  },
  {
   "cell_type": "code",
   "execution_count": 20,
   "metadata": {},
   "outputs": [
    {
     "name": "stderr",
     "output_type": "stream",
     "text": [
      "C:\\ProgramData\\Anaconda3\\lib\\site-packages\\sklearn\\utils\\validation.py:68: FutureWarning: Pass param_name=n_neighbors, param_range=[ 1  2  3  4  5  6  7  8  9 10 11 12 13 14 15 16 17 18 19 20 21 22 23 24\n",
      " 25 26 27 28 29 30 31 32 33 34 35 36 37 38 39 40 41 42 43 44 45 46 47 48\n",
      " 49 50] as keyword args. From version 0.25 passing these as positional arguments will result in an error\n",
      "  warnings.warn(\"Pass {} as keyword args. From version 0.25 \"\n"
     ]
    }
   ],
   "source": [
    "model = KNeighborsClassifier()\n",
    "k= np.arange(1,51)\n",
    "train_score , val_score = validation_curve(model, x_train, y_train, 'n_neighbors',k, cv=5) # Notre hyperparametre est n_neighbors avec cv=5=nbre de decoupe\n",
    "\n",
    " "
   ]
  },
  {
   "cell_type": "code",
   "execution_count": 21,
   "metadata": {},
   "outputs": [
    {
     "data": {
      "text/plain": [
       "array([[0.91666667, 0.95833333, 0.95833333, 1.        , 0.91666667],\n",
       "       [0.95833333, 0.95833333, 0.95833333, 1.        , 0.83333333],\n",
       "       [0.91666667, 0.91666667, 0.95833333, 0.95833333, 0.95833333],\n",
       "       [0.91666667, 0.95833333, 0.91666667, 0.91666667, 0.95833333],\n",
       "       [0.91666667, 0.95833333, 0.95833333, 0.95833333, 0.95833333],\n",
       "       [0.91666667, 0.95833333, 0.95833333, 0.95833333, 1.        ],\n",
       "       [0.91666667, 0.95833333, 0.95833333, 0.95833333, 1.        ],\n",
       "       [0.95833333, 0.95833333, 0.95833333, 0.95833333, 1.        ],\n",
       "       [0.91666667, 0.95833333, 0.95833333, 0.95833333, 0.95833333],\n",
       "       [0.91666667, 0.95833333, 0.95833333, 0.95833333, 1.        ],\n",
       "       [0.91666667, 0.95833333, 0.95833333, 0.95833333, 1.        ],\n",
       "       [0.95833333, 0.95833333, 0.95833333, 0.95833333, 1.        ],\n",
       "       [0.91666667, 0.95833333, 0.95833333, 0.95833333, 1.        ],\n",
       "       [0.91666667, 0.95833333, 0.95833333, 0.95833333, 1.        ],\n",
       "       [0.91666667, 0.95833333, 0.95833333, 0.95833333, 1.        ],\n",
       "       [0.91666667, 0.95833333, 0.91666667, 0.95833333, 1.        ],\n",
       "       [0.91666667, 0.95833333, 0.91666667, 0.95833333, 1.        ],\n",
       "       [0.91666667, 0.95833333, 0.875     , 0.95833333, 0.95833333],\n",
       "       [0.91666667, 0.95833333, 0.91666667, 0.95833333, 0.95833333],\n",
       "       [0.91666667, 0.95833333, 0.875     , 0.95833333, 0.95833333],\n",
       "       [0.91666667, 0.95833333, 0.875     , 0.95833333, 0.95833333],\n",
       "       [0.91666667, 0.95833333, 0.875     , 0.95833333, 0.95833333],\n",
       "       [0.91666667, 0.95833333, 0.91666667, 0.95833333, 0.95833333],\n",
       "       [0.91666667, 0.95833333, 0.875     , 0.95833333, 0.95833333],\n",
       "       [0.91666667, 0.95833333, 0.91666667, 0.95833333, 0.95833333],\n",
       "       [0.95833333, 0.95833333, 0.91666667, 0.95833333, 0.95833333],\n",
       "       [0.95833333, 0.95833333, 0.91666667, 0.95833333, 0.95833333],\n",
       "       [0.95833333, 0.95833333, 0.91666667, 0.95833333, 0.95833333],\n",
       "       [0.95833333, 0.95833333, 0.91666667, 0.95833333, 0.95833333],\n",
       "       [0.95833333, 0.95833333, 0.875     , 0.95833333, 0.95833333],\n",
       "       [0.95833333, 0.95833333, 0.875     , 0.95833333, 1.        ],\n",
       "       [0.95833333, 0.95833333, 0.875     , 0.95833333, 0.95833333],\n",
       "       [0.95833333, 0.95833333, 0.875     , 0.95833333, 1.        ],\n",
       "       [0.95833333, 0.95833333, 0.875     , 0.95833333, 1.        ],\n",
       "       [0.95833333, 0.95833333, 0.875     , 0.95833333, 1.        ],\n",
       "       [0.95833333, 0.95833333, 0.875     , 0.95833333, 1.        ],\n",
       "       [0.95833333, 0.95833333, 0.875     , 0.95833333, 1.        ],\n",
       "       [0.95833333, 1.        , 0.875     , 0.95833333, 0.95833333],\n",
       "       [0.95833333, 1.        , 0.875     , 0.95833333, 1.        ],\n",
       "       [0.95833333, 1.        , 0.875     , 0.95833333, 0.95833333],\n",
       "       [0.95833333, 0.95833333, 0.875     , 0.95833333, 1.        ],\n",
       "       [0.91666667, 0.91666667, 0.83333333, 0.95833333, 0.95833333],\n",
       "       [0.91666667, 0.95833333, 0.83333333, 0.91666667, 1.        ],\n",
       "       [0.91666667, 0.91666667, 0.83333333, 0.95833333, 1.        ],\n",
       "       [0.91666667, 0.95833333, 0.875     , 0.95833333, 1.        ],\n",
       "       [0.91666667, 0.95833333, 0.875     , 0.95833333, 0.95833333],\n",
       "       [0.91666667, 0.95833333, 0.875     , 0.91666667, 1.        ],\n",
       "       [0.91666667, 0.95833333, 0.875     , 0.875     , 1.        ],\n",
       "       [0.91666667, 0.91666667, 0.875     , 0.91666667, 1.        ],\n",
       "       [0.91666667, 0.91666667, 0.83333333, 0.875     , 1.        ]])"
      ]
     },
     "execution_count": 21,
     "metadata": {},
     "output_type": "execute_result"
    }
   ],
   "source": [
    "val_score"
   ]
  },
  {
   "cell_type": "code",
   "execution_count": 22,
   "metadata": {},
   "outputs": [
    {
     "data": {
      "text/plain": [
       "array([0.95      , 0.94166667, 0.94166667, 0.93333333, 0.95      ,\n",
       "       0.95833333, 0.95833333, 0.96666667, 0.95      , 0.95833333,\n",
       "       0.95833333, 0.96666667, 0.95833333, 0.95833333, 0.95833333,\n",
       "       0.95      , 0.95      , 0.93333333, 0.94166667, 0.93333333,\n",
       "       0.93333333, 0.93333333, 0.94166667, 0.93333333, 0.94166667,\n",
       "       0.95      , 0.95      , 0.95      , 0.95      , 0.94166667,\n",
       "       0.95      , 0.94166667, 0.95      , 0.95      , 0.95      ,\n",
       "       0.95      , 0.95      , 0.95      , 0.95833333, 0.95      ,\n",
       "       0.95      , 0.91666667, 0.925     , 0.925     , 0.94166667,\n",
       "       0.93333333, 0.93333333, 0.925     , 0.925     , 0.90833333])"
      ]
     },
     "execution_count": 22,
     "metadata": {},
     "output_type": "execute_result"
    }
   ],
   "source": [
    "val_score.mean(axis = 1)"
   ]
  },
  {
   "cell_type": "code",
   "execution_count": 23,
   "metadata": {},
   "outputs": [
    {
     "data": {
      "image/png": "[encoded data removed]",
      "text/plain": [
       "<Figure size 432x288 with 1 Axes>"
      ]
     },
     "metadata": {
      "needs_background": "light"
     },
     "output_type": "display_data"
    }
   ],
   "source": [
    "#Affichage de la moyenne des valeures d'entrainement et de validation\n",
    "_=plt.plot(k, val_score.mean(axis= 1), label = 'Validation')\n",
    "_=plt.plot(k, train_score.mean(axis=1), label = 'train')\n",
    "_=plt.ylabel('score')\n",
    "_=plt.xlabel('n_neighbors')\n",
    "_=plt.legend()"
   ]
  },
  {
   "cell_type": "markdown",
   "metadata": {},
   "source": [
    "# GridSearchCv"
   ]
  },
  {
   "cell_type": "markdown",
   "metadata": {},
   "source": [
    "GridsearchCv nous permet de trouver le modele avec les meilleurs hyperparametres grace à la validation croisée:Cross validation\n",
    "    "
   ]
  },
  {
   "cell_type": "code",
   "execution_count": 24,
   "metadata": {},
   "outputs": [],
   "source": [
    "#import du module depuis sklearn\n",
    "from sklearn.model_selection import GridSearchCV"
   ]
  },
  {
   "cell_type": "code",
   "execution_count": 25,
   "metadata": {},
   "outputs": [],
   "source": [
    "#on cree les parametres \n",
    "param_grid = {'n_neighbors':np.arange(1,20), 'metric':['euclidean','manhattan']}\n",
    "grid = GridSearchCV(KNeighborsClassifier(), param_grid , cv=5)"
   ]
  },
  {
   "cell_type": "code",
   "execution_count": 26,
   "metadata": {},
   "outputs": [
    {
     "data": {
      "text/plain": [
       "GridSearchCV(cv=5, estimator=KNeighborsClassifier(),\n",
       "             param_grid={'metric': ['euclidean', 'manhattan'],\n",
       "                         'n_neighbors': array([ 1,  2,  3,  4,  5,  6,  7,  8,  9, 10, 11, 12, 13, 14, 15, 16, 17,\n",
       "       18, 19])})"
      ]
     },
     "execution_count": 26,
     "metadata": {},
     "output_type": "execute_result"
    }
   ],
   "source": [
    "#Entrainement du model\n",
    "grid.fit(x_train, y_train)"
   ]
  },
  {
   "cell_type": "code",
   "execution_count": 27,
   "metadata": {},
   "outputs": [
    {
     "data": {
      "text/plain": [
       "0.9666666666666668"
      ]
     },
     "execution_count": 27,
     "metadata": {},
     "output_type": "execute_result"
    }
   ],
   "source": [
    "#Meilleure score\n",
    "grid.best_score_"
   ]
  },
  {
   "cell_type": "code",
   "execution_count": 28,
   "metadata": {},
   "outputs": [
    {
     "data": {
      "text/plain": [
       "KNeighborsClassifier(metric='euclidean', n_neighbors=8)"
      ]
     },
     "execution_count": 28,
     "metadata": {},
     "output_type": "execute_result"
    }
   ],
   "source": [
    "#Meilleure estimateur\n",
    "grid.best_estimator_"
   ]
  },
  {
   "cell_type": "code",
   "execution_count": 29,
   "metadata": {},
   "outputs": [
    {
     "data": {
      "text/plain": [
       "{'metric': 'euclidean', 'n_neighbors': 8}"
      ]
     },
     "execution_count": 29,
     "metadata": {},
     "output_type": "execute_result"
    }
   ],
   "source": [
    "#Meilleure parametre de notre modele\n",
    "grid.best_params_"
   ]
  },
  {
   "cell_type": "code",
   "execution_count": 30,
   "metadata": {},
   "outputs": [],
   "source": [
    "#Sauvegarde de notre modele\n",
    "model = grid.best_estimator_"
   ]
  },
  {
   "cell_type": "code",
   "execution_count": 39,
   "metadata": {},
   "outputs": [
    {
     "data": {
      "text/plain": [
       "1.0"
      ]
     },
     "execution_count": 39,
     "metadata": {},
     "output_type": "execute_result"
    }
   ],
   "source": [
    "#Testons le score de notre nouveau modele avec les donnees de test\n",
    "model.score(x_test,y_test) # Calcul de r2"
   ]
  },
  {
   "cell_type": "markdown",
   "metadata": {},
   "source": [
    "On obtient une precision de 96% sur notre modele"
   ]
  },
  {
   "cell_type": "markdown",
   "metadata": {},
   "source": [
    "# La matrice de confusion : Confusion matrix"
   ]
  },
  {
   "cell_type": "code",
   "execution_count": 32,
   "metadata": {},
   "outputs": [],
   "source": [
    "from sklearn.metrics import confusion_matrix"
   ]
  },
  {
   "cell_type": "code",
   "execution_count": 33,
   "metadata": {},
   "outputs": [
    {
     "data": {
      "text/plain": [
       "array([[ 8,  0,  0],\n",
       "       [ 0, 12,  0],\n",
       "       [ 0,  0, 10]], dtype=int64)"
      ]
     },
     "execution_count": 33,
     "metadata": {},
     "output_type": "execute_result"
    }
   ],
   "source": [
    "confusion_matrix(y_test, model.predict(x_test))"
   ]
  },
  {
   "cell_type": "markdown",
   "metadata": {},
   "source": [
    "# Le learning curve : la courbe d'apprentissage"
   ]
  },
  {
   "cell_type": "markdown",
   "metadata": {},
   "source": [
    "Les courbes d'apprentissages montrent l'evolution des performances de notre modele en fonction de la quantite de donnees qu'on lui fournit"
   ]
  },
  {
   "cell_type": "code",
   "execution_count": 34,
   "metadata": {},
   "outputs": [],
   "source": [
    "from sklearn.model_selection import learning_curve"
   ]
  },
  {
   "cell_type": "code",
   "execution_count": 35,
   "metadata": {},
   "outputs": [],
   "source": [
    "N,train_score, val_score = learning_curve(model,x_train,y_train,train_sizes =np.linspace(0.2 ,1.0,5) , cv=5)"
   ]
  },
  {
   "cell_type": "code",
   "execution_count": 36,
   "metadata": {},
   "outputs": [
    {
     "data": {
      "text/plain": [
       "array([0.2, 0.4, 0.6, 0.8, 1. ])"
      ]
     },
     "execution_count": 36,
     "metadata": {},
     "output_type": "execute_result"
    }
   ],
   "source": [
    "np.linspace(0.2 ,1.0,5)"
   ]
  },
  {
   "cell_type": "code",
   "execution_count": 37,
   "metadata": {},
   "outputs": [
    {
     "data": {
      "text/plain": [
       "array([19, 38, 57, 76, 96])"
      ]
     },
     "execution_count": 37,
     "metadata": {},
     "output_type": "execute_result"
    }
   ],
   "source": [
    "N"
   ]
  },
  {
   "cell_type": "code",
   "execution_count": 38,
   "metadata": {},
   "outputs": [
    {
     "data": {
      "text/plain": [
       "<matplotlib.legend.Legend at 0x27c8ab6a130>"
      ]
     },
     "execution_count": 38,
     "metadata": {},
     "output_type": "execute_result"
    },
    {
     "data": {
      "image/png": "[encoded data removed]",
      "text/plain": [
       "<Figure size 432x288 with 1 Axes>"
      ]
     },
     "metadata": {
      "needs_background": "light"
     },
     "output_type": "display_data"
    }
   ],
   "source": [
    "plt.plot(N , train_score.mean(axis=1),label='train')\n",
    "plt.plot(N , val_score.mean(axis=1),label='validation')\n",
    "plt.xlabel('train_sizes')\n",
    "plt.legend()"
   ]
  },
  {
   "cell_type": "code",
   "execution_count": null,
   "metadata": {},
   "outputs": [],
   "source": []
  }
 ],
 "metadata": {
  "kernelspec": {
   "display_name": "Python 3",
   "language": "python",
   "name": "python3"
  },
  "language_info": {
   "codemirror_mode": {
    "name": "ipython",
    "version": 3
   },
   "file_extension": ".py",
   "mimetype": "text/x-python",
   "name": "python",
   "nbconvert_exporter": "python",
   "pygments_lexer": "ipython3",
   "version": "3.8.3"
  }
 },
 "nbformat": 4,
 "nbformat_minor": 4
}
